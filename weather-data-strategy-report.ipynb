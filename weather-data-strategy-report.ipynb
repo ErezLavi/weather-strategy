{
 "cells": [
  {
   "cell_type": "markdown",
   "metadata": {},
   "source": [
    "# Weather strategy notebook\n"
   ]
  },
  {
   "cell_type": "markdown",
   "metadata": {},
   "source": [
    "## Our goals:\n",
    "- Our strategy model can take weather conditions as parameters to simulate performance under different scenarios.\n",
    "- Adjust strategies dynamically based on high-risk conditions (e.g., unexpected cloud cover).\n",
    "- Optimise Energy Consumption: Knowing the hours of sunshine and solar irradiation helps us manage our energy reserves efficiently.\n",
    "- Enhance Vehicle Design: Understanding temperature fluctuations allows for designing better cooling systems and ensures the solar panels' efficiency isn't compromised.\n",
    "- Predict Challenges: Past data can help us anticipate potential hurdles."
   ]
  },
  {
   "cell_type": "markdown",
   "metadata": {},
   "source": [
    "### TODO:\n",
    "- Data Exploration and Preprocessing\n",
    "  - Handle missing values, outliers, and data inconsistencies.\n",
    "  - Visualize important features (for example - mean daily GHI hourly distribution)\n",
    "  \n",
    "- Scenario Analysis for Weather Conditions\n",
    "  - Define weather scenarios (e.g., clear skies, cloudy, rainy, windy).\n",
    "- Export those strategies data as a parameters for our simulation system\n"
   ]
  },
  {
   "cell_type": "markdown",
   "metadata": {},
   "source": [
    "## Data collection method\n",
    "By using solcast API, we managed to collect weather and irradiance data from the circuit zolder route location, the data collected in intervals of 5 minutes and using UTC time format."
   ]
  },
  {
   "cell_type": "markdown",
   "metadata": {},
   "source": [
    "![API_features](media/API_features.png)"
   ]
  },
  {
   "cell_type": "markdown",
   "metadata": {},
   "source": [
    "### The chosen features:\n",
    "1. GHI - \"Global Horizontal Irradiance\" refers to the total solar radiation received on a horizontal surface, which helps estimate how much energy is available from all incoming solar radiation, including diffuse sunlight, which can affect the car even when it's not directly facing the sun.\n",
    "2. DNI - \"Direct normal irradiance\" represents the quantity of radiation received per unit area on a surface perpendicular to the sun.\n",
    "3. cloud_opacity - Indicates how much sunlight is blocked by clouds.\n",
    "4. Air_temp - Affects solar car efficiency, battery performance and cooling needs.\n",
    "5. Wind Speed (10m) - Relevant for aerodynamic drag and car speed optimization.\n",
    "6. Wind direction (10m)  - See #5\n",
    "7. Clearsky_DNI -  additional optimal scenario data.\n",
    "8. Clearsky_GHI - See #7\n",
    "9. Percipitable_water - Percipitable water can absorb incoming solar radiation at the atmosphere.\n",
    "10. Percipitation_rate - Affects the chance of rain,  and indicates the rate of change to #9.\n"
   ]
  },
  {
   "cell_type": "code",
   "execution_count": 2,
   "metadata": {},
   "outputs": [],
   "source": [
    "import pandas as pd"
   ]
  },
  {
   "cell_type": "code",
   "execution_count": 6,
   "metadata": {},
   "outputs": [
    {
     "name": "stdout",
     "output_type": "stream",
     "text": [
      "<class 'pandas.core.frame.DataFrame'>\n",
      "RangeIndex: 91872 entries, 0 to 91871\n",
      "Data columns (total 12 columns):\n",
      " #   Column              Non-Null Count  Dtype  \n",
      "---  ------              --------------  -----  \n",
      " 0   air_temp            91872 non-null  int64  \n",
      " 1   clearsky_dni        91872 non-null  int64  \n",
      " 2   clearsky_ghi        91872 non-null  int64  \n",
      " 3   cloud_opacity       91872 non-null  float64\n",
      " 4   dni                 91872 non-null  int64  \n",
      " 5   ghi                 91872 non-null  int64  \n",
      " 6   precipitable_water  91872 non-null  float64\n",
      " 7   precipitation_rate  91872 non-null  float64\n",
      " 8   wind_direction_10m  91872 non-null  int64  \n",
      " 9   wind_speed_10m      91872 non-null  float64\n",
      " 10  period_end          91872 non-null  object \n",
      " 11  period              91872 non-null  object \n",
      "dtypes: float64(4), int64(6), object(2)\n",
      "memory usage: 8.4+ MB\n"
     ]
    }
   ],
   "source": [
    "# Get 2014 to 2024 data in loop\n",
    "for i in range(2014, 2024):\n",
    "    df_temp = pd.read_csv(f'Data/{i}/{i}.csv')\n",
    "    df = pd.concat([df, df_temp], ignore_index=True)\n",
    "df.info()"
   ]
  },
  {
   "cell_type": "code",
   "execution_count": null,
   "metadata": {},
   "outputs": [],
   "source": []
  }
 ],
 "metadata": {
  "kernelspec": {
   "display_name": "weather-report",
   "language": "python",
   "name": "python3"
  },
  "language_info": {
   "codemirror_mode": {
    "name": "ipython",
    "version": 3
   },
   "file_extension": ".py",
   "mimetype": "text/x-python",
   "name": "python",
   "nbconvert_exporter": "python",
   "pygments_lexer": "ipython3",
   "version": "3.9.13"
  }
 },
 "nbformat": 4,
 "nbformat_minor": 2
}
