{
 "cells": [
  {
   "cell_type": "markdown",
   "metadata": {},
   "source": [
    "## Weather analysis strategy notebook goals\n"
   ]
  },
  {
   "cell_type": "markdown",
   "metadata": {},
   "source": [
    "- Optimise Energy Consumption: Knowing the hours of sunshine and solar irradiation helps teams manage their energy reserves efficiently.\n",
    "- Plan Strategically: Wind speed and direction data can aid in choosing the best trajectories, ensuring minimum resistance and optimal aerodynamics.\n",
    "- Enhance Vehicle Design: Understanding temperature fluctuations allows for designing better cooling systems and ensures the solar panels' efficiency isn't compromised.\n",
    "- Predict Challenges: Past data can help teams anticipate potential hurdles, be it a sudden cloud cover or a gusty wind patch, ensuring they're not caught off-guard."
   ]
  },
  {
   "cell_type": "markdown",
   "metadata": {},
   "source": [
    "## Data collection method\n",
    "By using solcast API, we managed to collect weather and irradiance data from the circuit zolder route coordinates, the data collected in intervals of 5 minutes and using UTC time format.\n",
    "\n",
    "\n"
   ]
  },
  {
   "cell_type": "markdown",
   "metadata": {},
   "source": [
    "![API_features](media/API_features.png)"
   ]
  },
  {
   "cell_type": "markdown",
   "metadata": {},
   "source": [
    "### The chosen features:\n",
    "1. GHI - \"Global Horizontal Irradiance\" refers to the total solar radiation received on a horizontal surface, which helps estimate how much energy is available from all incoming solar radiation, including diffuse sunlight, which can affect the car even when it's not directly facing the sun.\n",
    "2. DNI - \"Direct normal irradiance\" represents the quantity of radiation received per unit area on a surface perpendicular to the sun.\n",
    "3. cloud_opacity - Indicates how much sunlight is blocked by clouds.\n",
    "4. Zenith -\n",
    "5. Wind Speed (10m) -\n",
    "6.\n",
    "7.\n",
    "8.\n",
    "9."
   ]
  },
  {
   "cell_type": "markdown",
   "metadata": {},
   "source": []
  }
 ],
 "metadata": {
  "kernelspec": {
   "display_name": "weather-report",
   "language": "python",
   "name": "python3"
  },
  "language_info": {
   "name": "python",
   "version": "3.9.13"
  }
 },
 "nbformat": 4,
 "nbformat_minor": 2
}
