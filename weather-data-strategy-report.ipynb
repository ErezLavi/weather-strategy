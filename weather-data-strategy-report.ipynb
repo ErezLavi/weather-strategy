{
 "cells": [
  {
   "cell_type": "markdown",
   "metadata": {},
   "source": [
    "# Weather strategy notebook\n"
   ]
  },
  {
   "cell_type": "markdown",
   "metadata": {},
   "source": [
    "## Our goals:\n",
    "- Our strategy model can take weather conditions as parameters to simulate performance under different scenarios.\n",
    "- Adjust strategies dynamically based on high-risk conditions (e.g., unexpected cloud cover).\n",
    "- Optimise Energy Consumption: Knowing the hours of sunshine and solar irradiation helps us manage our energy reserves efficiently.\n",
    "- Enhance Vehicle Design: Understanding temperature fluctuations allows for designing better cooling systems and ensures the solar panels' efficiency isn't compromised.\n",
    "- Predict Challenges: Past data can help us anticipate potential hurdles."
   ]
  },
  {
   "cell_type": "markdown",
   "metadata": {},
   "source": [
    "### TODO:\n",
    "- Data Exploration and Preprocessing\n",
    "  -  Choose a sub group of relevant features from the API\n",
    "  - Handle missing values, outliers, and data inconsistencies.\n",
    "  - Visualize important features (for example - mean daily GHI hourly distribution)\n",
    "  \n",
    "- Scenario Analysis for Weather Conditions\n",
    "  - Define weather scenarios (e.g., clear skies, cloudy, rainy, windy).\n",
    "- Export those strategies as a parameters for our simulation system\n"
   ]
  },
  {
   "cell_type": "markdown",
   "metadata": {},
   "source": [
    "## Data collection method\n",
    "By using solcast API, we managed to collect weather and irradiance data from the circuit zolder route location, the data collected in intervals of 5 minutes and using UTC time format."
   ]
  },
  {
   "cell_type": "markdown",
   "metadata": {},
   "source": [
    "![API_features](media/API_features.png)"
   ]
  },
  {
   "cell_type": "markdown",
   "metadata": {},
   "source": [
    "### The chosen features:\n",
    "1. GHI - \"Global Horizontal Irradiance\" refers to the total solar radiation received on a horizontal surface, which helps estimate how much energy is available from all incoming solar radiation, including diffuse sunlight, which can affect the car even when it's not directly facing the sun.\n",
    "2. DNI - \"Direct normal irradiance\" represents the quantity of radiation received per unit area on a surface perpendicular to the sun.\n",
    "3. cloud_opacity - Indicates how much sunlight is blocked by clouds.\n",
    "4. Zenith -\n",
    "5. Wind Speed (10m) -\n",
    "6.\n",
    "7.\n",
    "8.\n",
    "9."
   ]
  },
  {
   "cell_type": "markdown",
   "metadata": {},
   "source": []
  }
 ],
 "metadata": {
  "kernelspec": {
   "display_name": "weather-report",
   "language": "python",
   "name": "python3"
  },
  "language_info": {
   "name": "python",
   "version": "3.9.13"
  }
 },
 "nbformat": 4,
 "nbformat_minor": 2
}
